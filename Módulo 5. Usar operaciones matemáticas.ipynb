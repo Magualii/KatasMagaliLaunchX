{
 "cells": [
  {
   "cell_type": "code",
   "execution_count": 11,
   "metadata": {},
   "outputs": [
    {
     "name": "stdout",
     "output_type": "stream",
     "text": [
      "-628949330\n"
     ]
    }
   ],
   "source": [
    "Tierra = 149597870 \n",
    "Júpiter = 778547200  \n",
    "print (Tierra - Júpiter)\n"
   ]
  },
  {
   "cell_type": "code",
   "execution_count": 12,
   "metadata": {},
   "outputs": [
    {
     "name": "stdout",
     "output_type": "stream",
     "text": [
      "-628949330\n"
     ]
    }
   ],
   "source": [
    "Tierra = 149597870\n",
    "Júpiter = 778547200\n",
    "distancia = Tierra - Júpiter\n",
    "print(distancia)"
   ]
  },
  {
   "cell_type": "code",
   "execution_count": 13,
   "metadata": {},
   "outputs": [
    {
     "name": "stdout",
     "output_type": "stream",
     "text": [
      "-390577533.93\n"
     ]
    }
   ],
   "source": [
    "km_a_mi = distancia * .621\n",
    "print(km_a_mi)"
   ]
  },
  {
   "cell_type": "code",
   "execution_count": 9,
   "metadata": {},
   "outputs": [
    {
     "ename": "TypeError",
     "evalue": "unsupported operand type(s) for -: 'str' and 'str'",
     "output_type": "error",
     "traceback": [
      "\u001b[1;31m---------------------------------------------------------------------------\u001b[0m",
      "\u001b[1;31mTypeError\u001b[0m                                 Traceback (most recent call last)",
      "\u001b[1;32mc:\\Users\\micki\\OneDrive\\Escritorio\\LAUNCH X\\Módulo 5\\Módulo 5. Usar operaciones matemáticas.ipynb Cell 4'\u001b[0m in \u001b[0;36m<module>\u001b[1;34m\u001b[0m\n\u001b[0;32m      <a href='vscode-notebook-cell:/c%3A/Users/micki/OneDrive/Escritorio/LAUNCH%20X/M%C3%B3dulo%205/M%C3%B3dulo%205.%20Usar%20operaciones%20matem%C3%A1ticas.ipynb#ch0000003?line=0'>1</a>\u001b[0m planeta_uno \u001b[39m=\u001b[39m \u001b[39minput\u001b[39m(\u001b[39m\"\u001b[39m\u001b[39mIntroduzca la distancia del planeta uno\u001b[39m\u001b[39m\"\u001b[39m)\n\u001b[0;32m      <a href='vscode-notebook-cell:/c%3A/Users/micki/OneDrive/Escritorio/LAUNCH%20X/M%C3%B3dulo%205/M%C3%B3dulo%205.%20Usar%20operaciones%20matem%C3%A1ticas.ipynb#ch0000003?line=1'>2</a>\u001b[0m planeta_dos \u001b[39m=\u001b[39m \u001b[39minput\u001b[39m(\u001b[39m\"\u001b[39m\u001b[39mIntroduzca la distancia del planeta dos\u001b[39m\u001b[39m\"\u001b[39m)\n\u001b[1;32m----> <a href='vscode-notebook-cell:/c%3A/Users/micki/OneDrive/Escritorio/LAUNCH%20X/M%C3%B3dulo%205/M%C3%B3dulo%205.%20Usar%20operaciones%20matem%C3%A1ticas.ipynb#ch0000003?line=2'>3</a>\u001b[0m distancia \u001b[39m=\u001b[39m \u001b[39mstr\u001b[39;49m(planeta_uno) \u001b[39m-\u001b[39;49m \u001b[39mstr\u001b[39;49m(planeta_dos)\n",
      "\u001b[1;31mTypeError\u001b[0m: unsupported operand type(s) for -: 'str' and 'str'"
     ]
    }
   ],
   "source": [
    "planeta_uno = input(\"Introduzca la distancia del planeta uno\")\n",
    "planeta_dos = input(\"Introduzca la distancia del planeta dos\")\n",
    "distancia = str(planeta_uno) - str(planeta_dos) \n"
   ]
  },
  {
   "cell_type": "code",
   "execution_count": 13,
   "metadata": {},
   "outputs": [],
   "source": [
    "planeta_uno = input(\"Introduzca la distancia del planeta_uno en km\")\n",
    "planeta_dos = input(\"Introduzca la distancia del planeta_dos en km\")\n"
   ]
  },
  {
   "cell_type": "code",
   "execution_count": 15,
   "metadata": {},
   "outputs": [],
   "source": [
    "planeta_uno = int(planeta_uno)\n",
    "planeta_dos = int(planeta_dos)\n"
   ]
  },
  {
   "cell_type": "code",
   "execution_count": 16,
   "metadata": {},
   "outputs": [
    {
     "name": "stdout",
     "output_type": "stream",
     "text": [
      "550700000\n"
     ]
    }
   ],
   "source": [
    "distancia = planeta_dos - planeta_uno\n",
    "print(distancia)"
   ]
  },
  {
   "cell_type": "code",
   "execution_count": 17,
   "metadata": {},
   "outputs": [
    {
     "name": "stdout",
     "output_type": "stream",
     "text": [
      "341984700.0\n"
     ]
    }
   ],
   "source": [
    "#Covnersión de km a millas \n",
    "km_a_mi = distancia * .621\n",
    "print(km_a_mi)"
   ]
  }
 ],
 "metadata": {
  "interpreter": {
   "hash": "0614b0d1478abbed199956dd8f6d2769edf5c3eedcbb27f4823b921855878d43"
  },
  "kernelspec": {
   "display_name": "Python 3.9.7 64-bit",
   "language": "python",
   "name": "python3"
  },
  "language_info": {
   "codemirror_mode": {
    "name": "ipython",
    "version": 3
   },
   "file_extension": ".py",
   "mimetype": "text/x-python",
   "name": "python",
   "nbconvert_exporter": "python",
   "pygments_lexer": "ipython3",
   "version": "3.10.2"
  },
  "orig_nbformat": 4
 },
 "nbformat": 4,
 "nbformat_minor": 2
}
