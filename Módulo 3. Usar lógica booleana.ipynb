{
 "cells": [
  {
   "cell_type": "code",
   "execution_count": 3,
   "metadata": {},
   "outputs": [],
   "source": [
    "#Tip de práctica 1: Intenta ejecutarlo en un notebook\n",
    "a = 97\n",
    "b = 55\n",
    "#test expression / expresión de prueba\n",
    "if a < b : \n",
    "    #statement to be run / instrucción a ejecutar\n",
    "    print (\"b\")\n"
   ]
  },
  {
   "cell_type": "code",
   "execution_count": 13,
   "metadata": {},
   "outputs": [
    {
     "name": "stdout",
     "output_type": "stream",
     "text": [
      "b\n"
     ]
    }
   ],
   "source": [
    "a = 97\n",
    "b = 55\n",
    "if a > b:\n",
    "    print(\"b\")\n"
   ]
  },
  {
   "cell_type": "code",
   "execution_count": 2,
   "metadata": {},
   "outputs": [
    {
     "name": "stdout",
     "output_type": "stream",
     "text": [
      "Advertencia, choque de asteroide \n"
     ]
    }
   ],
   "source": [
    "#asteroide\n",
    "a = 49\n",
    "b = 25\n",
    "if  a > b : \n",
    "    print(\"Advertencia, choque de asteroide \")\n",
    "else:\n",
    "    print(\"Falsa Alarma\")"
   ]
  },
  {
   "cell_type": "code",
   "execution_count": 3,
   "metadata": {},
   "outputs": [
    {
     "name": "stdout",
     "output_type": "stream",
     "text": [
      "¡Alerta! ¡Un asteroide se acerca a velocidades peligrosas!\n"
     ]
    }
   ],
   "source": [
    "asteroide = 49\n",
    "if asteroide > 25:\n",
    "    print('¡Alerta! ¡Un asteroide se acerca a velocidades peligrosas!')\n",
    "else:\n",
    "    print('¡Sigue con tu día!')"
   ]
  },
  {
   "cell_type": "code",
   "execution_count": 4,
   "metadata": {},
   "outputs": [
    {
     "name": "stdout",
     "output_type": "stream",
     "text": [
      "Mira, ¡un asteroide en el cielo!\n"
     ]
    }
   ],
   "source": [
    "asteoride = 19 \n",
    "if asteroide > 20: \n",
    "    print(\"Mira, ¡un asteroide en el cielo!\")\n",
    "elif asteroide ==20:\n",
    "    print(\"Mira, ¡Un asteroide en el cielo\")\n",
    "else:\n",
    "    print(\"No hay nada que ver\")"
   ]
  },
  {
   "cell_type": "code",
   "execution_count": 5,
   "metadata": {},
   "outputs": [
    {
     "name": "stdout",
     "output_type": "stream",
     "text": [
      "Mira, ¡un asteroide el cielo!\n"
     ]
    }
   ],
   "source": [
    "velocidad_asteroide = 25\n",
    "tamano_asteroide = 40\n",
    "if velocidad_asteroide > 25 and tamano_asteroide > 25:\n",
    "    print('¡Alerta, Un asteroide viene hacia la Tierra!')\n",
    "elif velocidad_asteroide >= 20:\n",
    "    print('Mira, ¡un asteroide el cielo!')\n",
    "elif tamano_asteroide < 25:\n",
    "    print('No hay nada que ver:)')\n",
    "else:\n",
    "    print('No hay nada que  :)')"
   ]
  },
  {
   "cell_type": "code",
   "execution_count": null,
   "metadata": {},
   "outputs": [],
   "source": []
  }
 ],
 "metadata": {
  "interpreter": {
   "hash": "0614b0d1478abbed199956dd8f6d2769edf5c3eedcbb27f4823b921855878d43"
  },
  "kernelspec": {
   "display_name": "Python 3.9.7 64-bit",
   "language": "python",
   "name": "python3"
  },
  "language_info": {
   "codemirror_mode": {
    "name": "ipython",
    "version": 3
   },
   "file_extension": ".py",
   "mimetype": "text/x-python",
   "name": "python",
   "nbconvert_exporter": "python",
   "pygments_lexer": "ipython3",
   "version": "3.9.7"
  },
  "orig_nbformat": 4
 },
 "nbformat": 4,
 "nbformat_minor": 2
}
