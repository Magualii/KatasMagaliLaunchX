{
 "cells": [
  {
   "cell_type": "code",
   "execution_count": 7,
   "metadata": {},
   "outputs": [
    {
     "ename": "TypeError",
     "evalue": "'list' object is not callable",
     "output_type": "error",
     "traceback": [
      "\u001b[1;31m---------------------------------------------------------------------------\u001b[0m",
      "\u001b[1;31mTypeError\u001b[0m                                 Traceback (most recent call last)",
      "\u001b[1;32mc:\\Users\\micki\\OneDrive\\Escritorio\\LAUNCH X\\Todas las katas\\Módulo 7. Estructuras de control.ipynb Cell 1'\u001b[0m in \u001b[0;36m<module>\u001b[1;34m\u001b[0m\n\u001b[0;32m      <a href='vscode-notebook-cell:/c%3A/Users/micki/OneDrive/Escritorio/LAUNCH%20X/Todas%20las%20katas/M%C3%B3dulo%207.%20Estructuras%20de%20control.ipynb#ch0000000?line=0'>1</a>\u001b[0m user_input \u001b[39m=\u001b[39m \u001b[39m'\u001b[39m\u001b[39m'\u001b[39m\n\u001b[0;32m      <a href='vscode-notebook-cell:/c%3A/Users/micki/OneDrive/Escritorio/LAUNCH%20X/Todas%20las%20katas/M%C3%B3dulo%207.%20Estructuras%20de%20control.ipynb#ch0000000?line=1'>2</a>\u001b[0m \u001b[39mwhile\u001b[39;00m user_input\u001b[39m.\u001b[39mlower() \u001b[39m!=\u001b[39m \u001b[39m'\u001b[39m\u001b[39mdone\u001b[39m\u001b[39m'\u001b[39m:\n\u001b[1;32m----> <a href='vscode-notebook-cell:/c%3A/Users/micki/OneDrive/Escritorio/LAUNCH%20X/Todas%20las%20katas/M%C3%B3dulo%207.%20Estructuras%20de%20control.ipynb#ch0000000?line=2'>3</a>\u001b[0m     user_input \u001b[39m=\u001b[39m \u001b[39minput\u001b[39;49m(\u001b[39m'\u001b[39;49m\u001b[39mIngresa una lista de planetas, or done when done\u001b[39;49m\u001b[39m'\u001b[39;49m)\n",
      "\u001b[1;31mTypeError\u001b[0m: 'list' object is not callable"
     ]
    }
   ],
   "source": [
    "user_input = ''\n",
    "while user_input.lower() != 'done':\n",
    "    user_input = input('Ingresa una lista de planetas, or done when done')\n"
   ]
  },
  {
   "cell_type": "code",
   "execution_count": 2,
   "metadata": {},
   "outputs": [],
   "source": [
    "nuevo_planeta = ''\n",
    "planetas = []"
   ]
  },
  {
   "cell_type": "code",
   "execution_count": 8,
   "metadata": {},
   "outputs": [
    {
     "ename": "TypeError",
     "evalue": "'list' object is not callable",
     "output_type": "error",
     "traceback": [
      "\u001b[1;31m---------------------------------------------------------------------------\u001b[0m",
      "\u001b[1;31mTypeError\u001b[0m                                 Traceback (most recent call last)",
      "\u001b[1;32mc:\\Users\\micki\\OneDrive\\Escritorio\\LAUNCH X\\Todas las katas\\Módulo 7. Estructuras de control.ipynb Cell 3'\u001b[0m in \u001b[0;36m<module>\u001b[1;34m\u001b[0m\n\u001b[0;32m      <a href='vscode-notebook-cell:/c%3A/Users/micki/OneDrive/Escritorio/LAUNCH%20X/Todas%20las%20katas/M%C3%B3dulo%207.%20Estructuras%20de%20control.ipynb#ch0000003?line=1'>2</a>\u001b[0m \u001b[39mif\u001b[39;00m nuevo_planeta:\n\u001b[0;32m      <a href='vscode-notebook-cell:/c%3A/Users/micki/OneDrive/Escritorio/LAUNCH%20X/Todas%20las%20katas/M%C3%B3dulo%207.%20Estructuras%20de%20control.ipynb#ch0000003?line=2'>3</a>\u001b[0m     planetas\u001b[39m.\u001b[39mappend(nuevo_planeta)\n\u001b[1;32m----> <a href='vscode-notebook-cell:/c%3A/Users/micki/OneDrive/Escritorio/LAUNCH%20X/Todas%20las%20katas/M%C3%B3dulo%207.%20Estructuras%20de%20control.ipynb#ch0000003?line=3'>4</a>\u001b[0m nuevo_planeta \u001b[39m=\u001b[39m \u001b[39minput\u001b[39;49m(\u001b[39m'\u001b[39;49m\u001b[39mIntroduce un nuevo planeta\u001b[39;49m\u001b[39m'\u001b[39;49m)\n",
      "\u001b[1;31mTypeError\u001b[0m: 'list' object is not callable"
     ]
    }
   ],
   "source": [
    "while nuevo_planeta.lower() != 'done':\n",
    "    if nuevo_planeta:\n",
    "        planetas.append(nuevo_planeta)\n",
    "    nuevo_planeta = input('Introduce un nuevo planeta')"
   ]
  }
 ],
 "metadata": {
  "interpreter": {
   "hash": "0614b0d1478abbed199956dd8f6d2769edf5c3eedcbb27f4823b921855878d43"
  },
  "kernelspec": {
   "display_name": "Python 3.9.7 64-bit",
   "language": "python",
   "name": "python3"
  },
  "language_info": {
   "codemirror_mode": {
    "name": "ipython",
    "version": 3
   },
   "file_extension": ".py",
   "mimetype": "text/x-python",
   "name": "python",
   "nbconvert_exporter": "python",
   "pygments_lexer": "ipython3",
   "version": "3.10.2"
  },
  "orig_nbformat": 4
 },
 "nbformat": 4,
 "nbformat_minor": 2
}
